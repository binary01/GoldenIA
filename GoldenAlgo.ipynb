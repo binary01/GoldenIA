{
  "nbformat": 4,
  "nbformat_minor": 0,
  "metadata": {
    "colab": {
      "provenance": [],
      "authorship_tag": "ABX9TyMygZiyGAlvR+QF+TbVunxt",
      "include_colab_link": true
    },
    "kernelspec": {
      "name": "python3",
      "display_name": "Python 3"
    },
    "language_info": {
      "name": "python"
    }
  },
  "cells": [
    {
      "cell_type": "markdown",
      "metadata": {
        "id": "view-in-github",
        "colab_type": "text"
      },
      "source": [
        "<a href=\"https://colab.research.google.com/github/binary01/GoldenIA/blob/main/GoldenAlgo.ipynb\" target=\"_parent\"><img src=\"https://colab.research.google.com/assets/colab-badge.svg\" alt=\"Open In Colab\"/></a>"
      ]
    },
    {
      "cell_type": "code",
      "execution_count": 9,
      "metadata": {
        "id": "wIwmIvL5uFL-"
      },
      "outputs": [],
      "source": [
        "import numpy as np\n",
        "\n",
        "class Golden:\n",
        "    def __init__(self, learning_rate=0.01, epsilon=1e-8):\n",
        "        # النسبة الذهبية φ\n",
        "        self.phi = (1 + np.sqrt(5)) / 2\n",
        "\n",
        "        # معاملات الزخم والتكيّف مبنية على النسبة الذهبية\n",
        "        self.beta1 = 1 - 1 / (self.phi ** 2)   # ≈ 0.618\n",
        "        self.beta2 = 1 - 1 / (self.phi ** 3)   # ≈ 0.764\n",
        "\n",
        "        # معدل التعلم الابتدائي\n",
        "        self.lr = learning_rate\n",
        "        self.epsilon = epsilon\n",
        "\n",
        "        # المتغيرات الداخلية\n",
        "        self.m = None  # المتوسط الأول (الزخم)\n",
        "        self.v = None  # المتوسط الثاني (التباين)\n",
        "        self.t = 0     # عدد الخطوات (iteration counter)\n",
        "\n",
        "    def update(self, params, grads, total_steps=1000):\n",
        "        \"\"\"\n",
        "        params: الأوزان الحالية (numpy array)\n",
        "        grads: التدرجات (numpy array)\n",
        "        total_steps: العدد الكلي للخطوات لتعديل معدل التعلم الذهبي\n",
        "        \"\"\"\n",
        "        if self.m is None:\n",
        "            self.m = np.zeros_like(params)\n",
        "            self.v = np.zeros_like(params)\n",
        "\n",
        "        # زيادة عدد الخطوات\n",
        "        self.t += 1\n",
        "\n",
        "        # تحديث المتوسطات\n",
        "        self.m = self.beta1 * self.m + (1 - self.beta1) * grads\n",
        "        self.v = self.beta2 * self.v + (1 - self.beta2) * (grads ** 2)\n",
        "\n",
        "        # تصحيح التحيز\n",
        "        m_hat = self.m / (1 - self.beta1 ** self.t)\n",
        "        v_hat = self.v / (1 - self.beta2 ** self.t)\n",
        "\n",
        "        # معدل التعلم الذهبي الديناميكي\n",
        "        golden_lr = self.lr * (1 / (self.phi ** (self.t / total_steps)))\n",
        "\n",
        "        # تحديث الأوزان\n",
        "        params = params - golden_lr * m_hat / (np.sqrt(v_hat) + self.epsilon)\n",
        "\n",
        "        return params\n"
      ]
    }
  ]
}